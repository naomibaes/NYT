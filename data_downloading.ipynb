{
 "cells": [
  {
   "cell_type": "code",
   "execution_count": 5,
   "metadata": {},
   "outputs": [
    {
     "name": "stdout",
     "output_type": "stream",
     "text": [
      "Requirement already satisfied: tqdm in /home/hugo/miniconda3/envs/NYT/lib/python3.12/site-packages (4.66.4)\n",
      "Note: you may need to restart the kernel to use updated packages.\n"
     ]
    }
   ],
   "source": [
    "# pip install tqdm if not already installed\n",
    "%pip install tqdm "
   ]
  },
  {
   "cell_type": "code",
   "execution_count": 1,
   "metadata": {},
   "outputs": [],
   "source": [
    "from get_corpus import get_corpus, concat_data\n",
    "import logging"
   ]
  },
  {
   "cell_type": "code",
   "execution_count": 2,
   "metadata": {},
   "outputs": [],
   "source": [
    "logger = logging.getLogger('NYT downloader')\n",
    "logging.basicConfig(level=logging.INFO)\n",
    "\n",
    "# Example of how to use the get_corpus function\n",
    "start_year = 2000\n",
    "end_year = 2001\n",
    "\n",
    "get_corpus(start_year, end_year, logger)"
   ]
  },
  {
   "cell_type": "code",
   "execution_count": 4,
   "metadata": {},
   "outputs": [
    {
     "name": "stderr",
     "output_type": "stream",
     "text": [
      "INFO:NYT downloader:Found 82 files.\n",
      "INFO:NYT downloader:Loading data...\n",
      "100%|██████████| 82/82 [00:04<00:00, 16.89it/s]\n",
      "INFO:NYT downloader:Saving data to nyt_corpus_test.csv, may take a while...\n"
     ]
    }
   ],
   "source": [
    "out_file = 'nyt_corpus_test.csv'\n",
    "concat_data(out_file=out_file, dir_path='corpus', logger=logger)"
   ]
  },
  {
   "cell_type": "code",
   "execution_count": null,
   "metadata": {},
   "outputs": [],
   "source": []
  }
 ],
 "metadata": {
  "kernelspec": {
   "display_name": "NYT",
   "language": "python",
   "name": "python3"
  },
  "language_info": {
   "codemirror_mode": {
    "name": "ipython",
    "version": 3
   },
   "file_extension": ".py",
   "mimetype": "text/x-python",
   "name": "python",
   "nbconvert_exporter": "python",
   "pygments_lexer": "ipython3",
   "version": "3.12.3"
  }
 },
 "nbformat": 4,
 "nbformat_minor": 2
}
