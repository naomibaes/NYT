{
 "cells": [
  {
   "cell_type": "markdown",
   "metadata": {},
   "source": [
    "Author: Hugo Keenan\n\n",
    "Aim: This script retrieves data for all years within a user-specified year range and saves it to a file with a custom format.\n\n",
    "Note: To run this script successfully, you need to get your API key from the NYT Developer site and save it in a file called \"nyt_api_key.txt\""
   ]
  },
  {
   "cell_type": "code",
   "execution_count": null,
   "metadata": {},
   "outputs": [],
   "source": [
    "# pip install tqdm if not already installed\n",
    "%pip install tqdm "
   ]
  },
  {
   "cell_type": "code",
   "execution_count": null,
   "metadata": {},
   "outputs": [],
   "source": [
    "from get_corpus import get_corpus, concat_data\n",
    "import logging"
   ]
  },
  {
   "cell_type": "code",
   "execution_count": null,
   "metadata": {},
   "outputs": [],
   "source": [
    "logger = logging.getLogger('NYT downloader')\n",
    "logging.basicConfig(level=logging.INFO)\n",
    "\n",
    "# Example of how to use the get_corpus function\n",
    "start_year = 2000\n",
    "end_year = 2001\n",
    "delimiter = '|||||'\n",
    "missing_value = 'NA'\n",
    "get_corpus(start_year, end_year, logger, delimiter, missing_value)"
   ]
  },
  {
   "cell_type": "code",
   "execution_count": null,
   "metadata": {},
   "outputs": [],
   "source": [
    "out_file = 'nyt_corpus_test.csv'\n",
    "concat_data(out_file=out_file, dir_path='corpus', logger=logger)"
   ]
  }
 ],
 "metadata": {
  "kernelspec": {
   "display_name": "NYT",
   "language": "python",
   "name": "python3"
  },
  "language_info": {
   "codemirror_mode": {
    "name": "ipython",
    "version": 3
   },
   "file_extension": ".py",
   "mimetype": "text/x-python",
   "name": "python",
   "nbconvert_exporter": "python",
   "pygments_lexer": "ipython3",
   "version": "3.12.3"
  }
 },
 "nbformat": 4,
 "nbformat_minor": 2
}
